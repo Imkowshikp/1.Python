{
 "cells": [
  {
   "cell_type": "markdown",
   "metadata": {},
   "source": [
    "# Kowshik P"
   ]
  },
  {
   "cell_type": "markdown",
   "metadata": {},
   "source": [
    "## Calculator using Python Programming - 22-Mar-2022"
   ]
  },
  {
   "cell_type": "code",
   "execution_count": 5,
   "metadata": {},
   "outputs": [
    {
     "name": "stdout",
     "output_type": "stream",
     "text": [
      "Enter the First Operand :3\n",
      "\n",
      "Enter the Operator(+, -, *, /, %, //, %, **) :*\n",
      "\n",
      "Enter the Second Operand :3\n",
      "\n",
      "Answer : 9\n"
     ]
    }
   ],
   "source": [
    "\n",
    "class pythonCalculator():\n",
    "\n",
    "    def calculating():\n",
    "\n",
    "        firstOperand = int(input(\"Enter the First Operand :\"));\n",
    "\n",
    "        operators = input(\"\\nEnter the Operator(+, -, *, /, %, //, %, **) :\");\n",
    "\n",
    "        secondOperand = int(input(\"\\nEnter the Second Operand :\"));\n",
    "\n",
    "        if(operators == \"+\"):\n",
    "            calculateAnswer = firstOperand + secondOperand;\n",
    "\n",
    "        elif(operators == \"-\"):\n",
    "            calculateAnswer = firstOperand - secondOperand;\n",
    "\n",
    "        elif(operators == \"*\"):\n",
    "            calculateAnswer = firstOperand * secondOperand;\n",
    "\n",
    "        elif(operators == \"/\"):\n",
    "            calculateAnswer = firstOperand / secondOperand;\n",
    "\n",
    "        elif(operators == \"%\"):\n",
    "            calculateAnswer = firstOperand % secondOperand;\n",
    "\n",
    "        elif(operators == \"//\"):\n",
    "            calculateAnswer = firstOperand // secondOperand;\n",
    "\n",
    "        elif(operators == \"**\"): \n",
    "            calculateAnswer = firstOperand ** secondOperand;\n",
    "\n",
    "        print(\"\\nAnswer :\", calculateAnswer);\n",
    "\n",
    "\n",
    "\n",
    "    calculating();    \n",
    "\n",
    "pythonCalculator();\n",
    "\n",
    "\n",
    "#else:\n",
    "    #print(\"Enter the Numeric Value\");\n",
    "    \n",
    "    \n",
    "\n",
    "\n",
    "\n",
    "\n",
    "\n"
   ]
  }
 ],
 "metadata": {
  "kernelspec": {
   "display_name": "Python 3",
   "language": "python",
   "name": "python3"
  },
  "language_info": {
   "codemirror_mode": {
    "name": "ipython",
    "version": 3
   },
   "file_extension": ".py",
   "mimetype": "text/x-python",
   "name": "python",
   "nbconvert_exporter": "python",
   "pygments_lexer": "ipython3",
   "version": "3.7.4"
  }
 },
 "nbformat": 4,
 "nbformat_minor": 2
}
