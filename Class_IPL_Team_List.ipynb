{
 "cells": [
  {
   "cell_type": "code",
   "execution_count": 1,
   "metadata": {},
   "outputs": [],
   "source": [
    "from iplPyFile import t20_Indian_Premere_Leaque;\n",
    "\n",
    "obj = t20_Indian_Premere_Leaque();\n"
   ]
  },
  {
   "cell_type": "code",
   "execution_count": 2,
   "metadata": {},
   "outputs": [
    {
     "name": "stdout",
     "output_type": "stream",
     "text": [
      "User Name :1\n",
      "CSK\n"
     ]
    }
   ],
   "source": [
    "obj.groupTeam_A();"
   ]
  },
  {
   "cell_type": "code",
   "execution_count": 3,
   "metadata": {},
   "outputs": [
    {
     "name": "stdout",
     "output_type": "stream",
     "text": [
      "User Name :2\n",
      "RCB\n"
     ]
    }
   ],
   "source": [
    "obj.groupTeam_A();"
   ]
  },
  {
   "cell_type": "code",
   "execution_count": 4,
   "metadata": {},
   "outputs": [
    {
     "name": "stdout",
     "output_type": "stream",
     "text": [
      "User Name :3\n",
      "MI\n"
     ]
    }
   ],
   "source": [
    "obj.groupTeam_A();"
   ]
  },
  {
   "cell_type": "code",
   "execution_count": 5,
   "metadata": {},
   "outputs": [
    {
     "name": "stdout",
     "output_type": "stream",
     "text": [
      "Enter the Group :1\n",
      "\n",
      "Chennai Super Kings\n",
      "Royal Challengers Bangalure\n",
      "Mumbai Indians\n",
      "Kolkata Knight Riders\n",
      "Delhi Capitals\n"
     ]
    }
   ],
   "source": [
    "obj.groupTeam_B();"
   ]
  },
  {
   "cell_type": "code",
   "execution_count": 6,
   "metadata": {},
   "outputs": [
    {
     "name": "stdout",
     "output_type": "stream",
     "text": [
      "Enter the Group :2\n",
      "\n",
      "Lucknow Super Giant\n",
      "Gujarat Titans\n",
      "Punjab Kings\n",
      "Sun Risers Hyderabad\n",
      "Rajastan Royals\n"
     ]
    }
   ],
   "source": [
    "obj.groupTeam_B();"
   ]
  }
 ],
 "metadata": {
  "kernelspec": {
   "display_name": "Python 3",
   "language": "python",
   "name": "python3"
  },
  "language_info": {
   "codemirror_mode": {
    "name": "ipython",
    "version": 3
   },
   "file_extension": ".py",
   "mimetype": "text/x-python",
   "name": "python",
   "nbconvert_exporter": "python",
   "pygments_lexer": "ipython3",
   "version": "3.7.4"
  }
 },
 "nbformat": 4,
 "nbformat_minor": 2
}
