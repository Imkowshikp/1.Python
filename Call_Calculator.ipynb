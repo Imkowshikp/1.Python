{
 "cells": [
  {
   "cell_type": "code",
   "execution_count": 2,
   "metadata": {},
   "outputs": [
    {
     "name": "stdout",
     "output_type": "stream",
     "text": [
      "Enter the First Operand :365\n",
      "\n",
      "Enter the Operator(+, -, *, /, %, //, %, **) :/\n",
      "\n",
      "Enter the Second Operand :500\n",
      "\n",
      "Answer : 0.73\n"
     ]
    }
   ],
   "source": [
    "from Py_Calculator import pythonCalculator;\n",
    "\n",
    "object_1 = pythonCalculator();\n",
    "\n",
    "object_1.calculating();\n",
    "\n"
   ]
  }
 ],
 "metadata": {
  "kernelspec": {
   "display_name": "Python 3",
   "language": "python",
   "name": "python3"
  },
  "language_info": {
   "codemirror_mode": {
    "name": "ipython",
    "version": 3
   },
   "file_extension": ".py",
   "mimetype": "text/x-python",
   "name": "python",
   "nbconvert_exporter": "python",
   "pygments_lexer": "ipython3",
   "version": "3.7.4"
  }
 },
 "nbformat": 4,
 "nbformat_minor": 2
}
