{
 "cells": [
  {
   "cell_type": "markdown",
   "metadata": {},
   "source": [
    "# Kowshik P - Batch-03"
   ]
  },
  {
   "cell_type": "markdown",
   "metadata": {},
   "source": [
    "## Class and Function Homework - 20-Mar-2022"
   ]
  },
  {
   "cell_type": "markdown",
   "metadata": {},
   "source": [
    "## Square of Area and Perimeter - (Answer - 1)."
   ]
  },
  {
   "cell_type": "code",
   "execution_count": 1,
   "metadata": {},
   "outputs": [
    {
     "name": "stdout",
     "output_type": "stream",
     "text": [
      "Side = 12 \n",
      "Area formula : Side * Side \n",
      "Area of square: 144\n",
      "\n",
      "Perimeter formula : 4 * Side \n",
      "Perimeter of Square : 48\n"
     ]
    }
   ],
   "source": [
    "\n",
    "sideValue = 12;\n",
    "\n",
    "def squareOfArea():\n",
    "        \n",
    "    areaOfSquare = sideValue * sideValue;\n",
    "    \n",
    "    print(\"Side =\", sideValue, \"\\nArea formula : Side * Side\", \"\\nArea of square:\", areaOfSquare);\n",
    "    \n",
    "squareOfArea();    \n",
    "    \n",
    "def squareOfPerimeter():  \n",
    "      \n",
    "    perimeterOfSquare = 4*sideValue;\n",
    "\n",
    "    print(\"\\nPerimeter formula : 4 * Side\", \"\\nPerimeter of Square :\", perimeterOfSquare);   \n",
    "    \n",
    "squareOfPerimeter();    \n",
    "\n"
   ]
  },
  {
   "cell_type": "markdown",
   "metadata": {},
   "source": [
    "## Linear - (Answer - 2)."
   ]
  },
  {
   "cell_type": "code",
   "execution_count": 2,
   "metadata": {},
   "outputs": [
    {
     "name": "stdout",
     "output_type": "stream",
     "text": [
      "Weight : 15 \n",
      "Input : 5 \n",
      "Bias Value : 1 \n",
      "Formula: Output = Weight * Input + Bias Value \n",
      "Simple Linear : 76\n"
     ]
    }
   ],
   "source": [
    "\n",
    "def linearCalculate():\n",
    "\n",
    "    weightMeasure = 15;\n",
    "\n",
    "    inputValue = 5;\n",
    "\n",
    "    biasValue = 1;\n",
    "\n",
    "    linearValue = weightMeasure * inputValue + biasValue;\n",
    "\n",
    "    print(\"Weight :\", weightMeasure, \"\\nInput :\", inputValue, \"\\nBias Value :\", biasValue, \"\\nFormula: Output = Weight * Input + Bias Value\", \"\\nSimple Linear :\", linearValue);\n",
    "\n",
    "linearCalculate();    \n"
   ]
  },
  {
   "cell_type": "markdown",
   "metadata": {},
   "source": [
    "## Present Age - (Answer - 3)."
   ]
  },
  {
   "cell_type": "code",
   "execution_count": 3,
   "metadata": {},
   "outputs": [
    {
     "name": "stdout",
     "output_type": "stream",
     "text": [
      "Birth Year : 2000 \n",
      "Present Year : 2022 \n",
      "Formula : Present Year - Birth Year \n",
      "Present Age : 22\n"
     ]
    }
   ],
   "source": [
    "\n",
    "def ageCalculate():\n",
    "\n",
    "    birthYear = 2000;\n",
    "\n",
    "    presentYear = 2022;\n",
    "\n",
    "    yearOfDateOfBirth = presentYear - birthYear;\n",
    "\n",
    "    print(\"Birth Year :\",birthYear, \"\\nPresent Year :\",presentYear,\"\\nFormula : Present Year - Birth Year\", \"\\nPresent Age :\", yearOfDateOfBirth);\n",
    "\n",
    "ageCalculate();\n",
    "\n"
   ]
  },
  {
   "cell_type": "markdown",
   "metadata": {},
   "source": [
    "## AI Course List - (Answer - 4)."
   ]
  },
  {
   "cell_type": "code",
   "execution_count": 4,
   "metadata": {},
   "outputs": [
    {
     "name": "stdout",
     "output_type": "stream",
     "text": [
      "Course List:\n",
      "Python\n",
      "Machine Learning\n",
      "Data Science\n",
      "Deep Learning\n",
      "NLP\n",
      "Time Series Analysis\n"
     ]
    }
   ],
   "source": [
    "\n",
    "class artificialIntelligenceCourseList():\n",
    "\n",
    "    def aiCourse():\n",
    "\n",
    "        courseHead = \"Course List:\";\n",
    "\n",
    "        courseList = [\"Python\", \"Machine Learning\", \"Data Science\", \"Deep Learning\", \"NLP\", \"Time Series Analysis\"];\n",
    "\n",
    "        print(courseHead);\n",
    "\n",
    "        for courseAI in courseList:\n",
    "            print(courseAI);\n",
    "\n",
    "    aiCourse();        \n"
   ]
  },
  {
   "cell_type": "markdown",
   "metadata": {},
   "source": [
    "## Rectangle of Area and Perimeter - (Answer - 5)."
   ]
  },
  {
   "cell_type": "code",
   "execution_count": 5,
   "metadata": {},
   "outputs": [
    {
     "name": "stdout",
     "output_type": "stream",
     "text": [
      "Length : 12 \n",
      "Breadth : 18 \n",
      "Area formula : Length * Breadth \n",
      "Area of rectangle : 216\n",
      "\n",
      "Length : 9 \n",
      "Breadth : 15 \n",
      "Perimeter formula : 2*(Length + Breadth) \n",
      "Perimeter of rectangle 48\n"
     ]
    }
   ],
   "source": [
    "\n",
    "class rectangleOfAreaAndPerimeter():\n",
    "\n",
    "    def areaRectangle():\n",
    "\n",
    "        areaLength = 12;\n",
    "\n",
    "        areaBreadth = 18;\n",
    "\n",
    "        areaOfRectangle = areaLength * areaBreadth;\n",
    "\n",
    "        print(\"Length :\", areaLength, \"\\nBreadth :\", areaBreadth, \"\\nArea formula : Length * Breadth\", \"\\nArea of rectangle :\", areaOfRectangle);\n",
    "\n",
    "    areaRectangle();\n",
    "\n",
    "    def perimeterRectangle():\n",
    "\n",
    "        perimeterLength = 9;\n",
    "\n",
    "        perimeterBreadth = 15;\n",
    "\n",
    "        perimeterOfRectangle = 2 * (perimeterLength + perimeterBreadth);\n",
    "\n",
    "        print(\"\\nLength :\", perimeterLength, \"\\nBreadth :\", perimeterBreadth, \"\\nPerimeter formula : 2*(Length + Breadth)\", \"\\nPerimeter of rectangle\", perimeterOfRectangle);\n",
    "\n",
    "    perimeterRectangle();    \n",
    "\n"
   ]
  },
  {
   "cell_type": "markdown",
   "metadata": {},
   "source": [
    "## Swap Two Numbers - (Answer - 6)."
   ]
  },
  {
   "cell_type": "code",
   "execution_count": 6,
   "metadata": {},
   "outputs": [
    {
     "name": "stdout",
     "output_type": "stream",
     "text": [
      "a= 67 \n",
      "b= 45\n",
      "After swapping \n",
      "a= 45 \n",
      "b= 67\n"
     ]
    }
   ],
   "source": [
    "\n",
    "class swapValue():\n",
    "\n",
    "    def valueSwapping():\n",
    "\n",
    "        valueOfA = 67;\n",
    "\n",
    "        valueOFB = 45;\n",
    "\n",
    "        print(\"a=\", valueOfA, \"\\nb=\", valueOFB);\n",
    "\n",
    "        valueOfA, valueOFB = valueOFB, valueOfA;\n",
    "\n",
    "        print(\"After swapping\", \"\\na=\", valueOfA, \"\\nb=\", valueOFB);\n",
    "\n",
    "    valueSwapping();    \n"
   ]
  },
  {
   "cell_type": "markdown",
   "metadata": {},
   "source": [
    "## Simple Interest - (Answer - 7)."
   ]
  },
  {
   "cell_type": "code",
   "execution_count": 7,
   "metadata": {},
   "outputs": [
    {
     "name": "stdout",
     "output_type": "stream",
     "text": [
      "Principle Amount : 5000 \n",
      "Rate of Interest : 5 \n",
      "Time Period : 12 \n",
      "Simple Interest formula = (P*R*T)/100 \n",
      "Simple Interest : 3000.0\n"
     ]
    }
   ],
   "source": [
    "\n",
    "class simpleInterest():\n",
    "\n",
    "    def calculatingSimpleInterest():\n",
    "\n",
    "        principleAmount = 5000;\n",
    "\n",
    "        rateOfInterest = 5;\n",
    "\n",
    "        timePeriod = 12;\n",
    "\n",
    "        simpleInterest = (principleAmount * rateOfInterest * timePeriod) / 100;\n",
    "\n",
    "        print(\"Principle Amount :\", principleAmount, \"\\nRate of Interest :\", rateOfInterest, \"\\nTime Period :\", timePeriod, \"\\nSimple Interest formula = (P*R*T)/100\", \"\\nSimple Interest :\",simpleInterest);\n",
    "\n",
    "    calculatingSimpleInterest();    "
   ]
  },
  {
   "cell_type": "markdown",
   "metadata": {},
   "source": [
    "## Average Marks - (Answer - 8)."
   ]
  },
  {
   "cell_type": "code",
   "execution_count": 8,
   "metadata": {},
   "outputs": [
    {
     "name": "stdout",
     "output_type": "stream",
     "text": [
      "Mark1 = 78 \n",
      "Mark2 = 89 \n",
      "Mark3 = 90 \n",
      "Total : 257 \n",
      "Average : 85\n"
     ]
    }
   ],
   "source": [
    "\n",
    "class studentAverageMark():\n",
    "\n",
    "    def averageCalculating():\n",
    "\n",
    "        import math;\n",
    "\n",
    "        markList = [78, 89, 90]\n",
    "\n",
    "        totalMark = sum(markList);\n",
    "\n",
    "        averageMark = totalMark/len(markList);\n",
    "\n",
    "        #print(round(avg,1));\n",
    "\n",
    "        print(\"Mark1 =\", markList[0], \"\\nMark2 =\", markList[1], \"\\nMark3 =\", markList[2], \"\\nTotal :\", totalMark, \"\\nAverage :\", math.trunc(averageMark));\n",
    "\n",
    "    averageCalculating();\n",
    "    \n",
    "    "
   ]
  },
  {
   "cell_type": "markdown",
   "metadata": {},
   "source": [
    "## Car Model Names - (Answer - 9)."
   ]
  },
  {
   "cell_type": "code",
   "execution_count": 9,
   "metadata": {},
   "outputs": [
    {
     "name": "stdout",
     "output_type": "stream",
     "text": [
      "Car Model Names:\n",
      "Maruti Alto\n",
      "Maruti Dzire\n",
      "Hyundai Creta\n",
      "Maruti Swift\n"
     ]
    }
   ],
   "source": [
    "\n",
    "class carModels():\n",
    "\n",
    "    def carVariant():\n",
    "\n",
    "        listHead = \"Car Model Names:\";\n",
    "\n",
    "        listOfCarModels = [\"Maruti Alto\", \"Maruti Dzire\", \"Hyundai Creta\", \"Maruti Swift\"];\n",
    "\n",
    "        print(listHead);\n",
    "\n",
    "        for carModels in listOfCarModels:\n",
    "            print(carModels);\n",
    "\n",
    "    carVariant()\n",
    "\n"
   ]
  },
  {
   "cell_type": "markdown",
   "metadata": {},
   "source": [
    "## Prime Number or Not - (Answer - 10)."
   ]
  },
  {
   "cell_type": "code",
   "execution_count": 10,
   "metadata": {},
   "outputs": [
    {
     "name": "stdout",
     "output_type": "stream",
     "text": [
      "Enter any number: 37\n",
      "37 is a prime number\n"
     ]
    }
   ],
   "source": [
    "class primeNumber():\n",
    "\n",
    "    def primeNumberCalculating():\n",
    "\n",
    "        getValue = int(input(\"Enter any number: \"));\n",
    "\n",
    "        if(getValue > 1):\n",
    "\n",
    "            for primeValue in range(2, getValue//2): #range(2, int(getValue/2)+1):\n",
    "                \n",
    "\n",
    "                if(getValue % primeValue) == 0:\n",
    "\n",
    "                    print(getValue, \"is not prime number\");\n",
    "                    break;\n",
    "\n",
    "                else:\n",
    "                    print(getValue, \"is a prime number\");\n",
    "                    break;\n",
    "\n",
    "            else:\n",
    "                print(getValue, \"is not prime number\");\n",
    "\n",
    "    primeNumberCalculating();\n"
   ]
  }
 ],
 "metadata": {
  "kernelspec": {
   "display_name": "Python 3",
   "language": "python",
   "name": "python3"
  },
  "language_info": {
   "codemirror_mode": {
    "name": "ipython",
    "version": 3
   },
   "file_extension": ".py",
   "mimetype": "text/x-python",
   "name": "python",
   "nbconvert_exporter": "python",
   "pygments_lexer": "ipython3",
   "version": "3.7.4"
  }
 },
 "nbformat": 4,
 "nbformat_minor": 2
}
