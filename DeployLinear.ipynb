{
 "cells": [
  {
   "cell_type": "code",
   "execution_count": 2,
   "metadata": {},
   "outputs": [
    {
     "name": "stdout",
     "output_type": "stream",
     "text": [
      "[[167181.3106341]]\n"
     ]
    }
   ],
   "source": [
    "# Deployment or Implementation for 15 years of Experience\n",
    "\n",
    "import pickle;\n",
    "\n",
    "load_model = pickle.load(open(\"finalModel.sav\", \"rb\"));\n",
    "\n",
    "result = load_model.predict([[15]]);\n",
    "\n",
    "print(result);"
   ]
  },
  {
   "cell_type": "code",
   "execution_count": 3,
   "metadata": {},
   "outputs": [
    {
     "name": "stdout",
     "output_type": "stream",
     "text": [
      "[[26777.3913412]]\n"
     ]
    }
   ],
   "source": [
    "# Deployment for Fresher\n",
    "\n",
    "result_1 = load_model.predict([[0]]);\n",
    "\n",
    "print(result_1);"
   ]
  },
  {
   "cell_type": "code",
   "execution_count": 4,
   "metadata": {},
   "outputs": [
    {
     "name": "stdout",
     "output_type": "stream",
     "text": [
      "[[354386.53635798]]\n"
     ]
    }
   ],
   "source": [
    "# Deployment for 35 years of Experience\n",
    "\n",
    "result_2 = load_model.predict([[35]]);\n",
    "\n",
    "print(result_2);"
   ]
  }
 ],
 "metadata": {
  "kernelspec": {
   "display_name": "Python 3",
   "language": "python",
   "name": "python3"
  },
  "language_info": {
   "codemirror_mode": {
    "name": "ipython",
    "version": 3
   },
   "file_extension": ".py",
   "mimetype": "text/x-python",
   "name": "python",
   "nbconvert_exporter": "python",
   "pygments_lexer": "ipython3",
   "version": "3.7.4"
  }
 },
 "nbformat": 4,
 "nbformat_minor": 2
}
