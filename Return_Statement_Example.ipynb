{
 "cells": [
  {
   "cell_type": "code",
   "execution_count": null,
   "metadata": {},
   "outputs": [],
   "source": []
  },
  {
   "cell_type": "code",
   "execution_count": null,
   "metadata": {},
   "outputs": [],
   "source": []
  },
  {
   "cell_type": "code",
   "execution_count": 7,
   "metadata": {},
   "outputs": [
    {
     "name": "stdout",
     "output_type": "stream",
     "text": [
      "Total Number of Students of the Year : 6010\n"
     ]
    }
   ],
   "source": [
    "\n",
    "class totalNumberOfStudents():\n",
    "\n",
    "    def overallBoysCounting():\n",
    "\n",
    "        boysFirstLanguageOverallStudents = 500;\n",
    "\n",
    "        boysMathsOverallStudents = 750;\n",
    "\n",
    "        boysPhysicsOverallStudents = 650;\n",
    "\n",
    "        boysChemistryOverallStudents = 770;\n",
    "\n",
    "        boysBiologyOverallStudents = 550;\n",
    "\n",
    "        totalNumberOfBoysStudents = boysFirstLanguageOverallStudents + boysMathsOverallStudents + boysPhysicsOverallStudents + boysChemistryOverallStudents +boysBiologyOverallStudents;\n",
    "\n",
    "        return totalNumberOfBoysStudents;\n",
    "\n",
    "    overallBoysCounting(); \n",
    "\n",
    "\n",
    "    def overallGirlsCounting():\n",
    "\n",
    "        girlsFirstLanguageOverallStudents = 370;\n",
    "\n",
    "        girlsMathsOverallStudents = 500;\n",
    "\n",
    "        girlsPhysicsOverallStudents = 600;\n",
    "\n",
    "        girlsChemistryOverallStudents = 750;\n",
    "\n",
    "        girlsBiologyOverallStudents = 570;\n",
    "\n",
    "        totalNumberOfGirlsStudents = girlsFirstLanguageOverallStudents + girlsMathsOverallStudents + girlsPhysicsOverallStudents + girlsChemistryOverallStudents + girlsBiologyOverallStudents;\n",
    "\n",
    "        return totalNumberOfGirlsStudents;\n",
    "\n",
    "    overallGirlsCounting();\n",
    "\n",
    "\n",
    "    def totalStudents():\n",
    "        \n",
    "        totalNumberOfBoys = totalNumberOfStudents.overallBoysCounting();\n",
    "        \n",
    "        totalNumberOFGirls = totalNumberOfStudents.overallGirlsCounting();\n",
    "        \n",
    "        overallStudents = totalNumberOfBoys + totalNumberOFGirls;\n",
    "                \n",
    "        print(\"Total Number of Students of the Year :\", overallStudents);\n",
    "        \n",
    "        return overallStudents;\n",
    "    \n",
    "    totalStudents();\n",
    "    \n",
    "totalNumberOfStudents();  \n",
    "    \n",
    "      "
   ]
  }
 ],
 "metadata": {
  "kernelspec": {
   "display_name": "Python 3",
   "language": "python",
   "name": "python3"
  },
  "language_info": {
   "codemirror_mode": {
    "name": "ipython",
    "version": 3
   },
   "file_extension": ".py",
   "mimetype": "text/x-python",
   "name": "python",
   "nbconvert_exporter": "python",
   "pygments_lexer": "ipython3",
   "version": "3.7.4"
  }
 },
 "nbformat": 4,
 "nbformat_minor": 2
}
