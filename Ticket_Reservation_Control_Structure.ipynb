{
 "cells": [
  {
   "cell_type": "markdown",
   "metadata": {},
   "source": [
    "# Ticket Booking Reservation"
   ]
  },
  {
   "cell_type": "code",
   "execution_count": 40,
   "metadata": {},
   "outputs": [
    {
     "name": "stdout",
     "output_type": "stream",
     "text": [
      "Enter the Movie Name:Intersteller\n",
      "Ticket available\n"
     ]
    }
   ],
   "source": [
    "\n",
    "movieName1 = input(\"Enter the Movie Name:\");\n",
    "\n",
    "\n",
    "if(movieName1 == \"Intersteller\"):\n",
    "    \n",
    "    print(\"Ticket available\");\n",
    "else:\n",
    "    print(\"Enter the valid name\");\n",
    "\n",
    "\n"
   ]
  },
  {
   "cell_type": "code",
   "execution_count": 9,
   "metadata": {},
   "outputs": [
    {
     "name": "stdout",
     "output_type": "stream",
     "text": [
      "Enter the Movie TicketsLights Out\n",
      "Lights Out available\n"
     ]
    }
   ],
   "source": [
    "movieName1 = input(\"Enter the Movie Tickets\");\n",
    "\n",
    "if(movieName1 == \"The Nun\"):\n",
    "    print(\"The Nun available\");\n",
    "elif(movieName1 == \"Lights Out\"):\n",
    "    print(\"Lights Out available\");\n",
    "elif(movieName1 == \"Conjuring\"):\n",
    "    print(\"Conjuring available\");\n",
    "elif(movieName1 == \"Hannah Grace\"):\n",
    "    print(\"Hannah Grace available\");\n",
    "else:\n",
    "    print(\"We are not screening here - Thank you.\")"
   ]
  },
  {
   "cell_type": "code",
   "execution_count": 38,
   "metadata": {},
   "outputs": [
    {
     "name": "stdout",
     "output_type": "stream",
     "text": [
      "Enter Student NameSUN\n",
      "Code Accpeted\n",
      "C\n",
      "o\n",
      "d\n",
      "e\n",
      " \n",
      "A\n",
      "c\n",
      "c\n",
      "p\n",
      "e\n",
      "t\n",
      "e\n",
      "d\n",
      "('Girls Name :', ('1. Anitha', '2. Bhuvi', '3. Charu', '4. Deepika', '5. esha'))\n",
      "('Boys Name :', ('1. Vivek', '2. Naren', '3. Kowshik', '4. Goutham', '5. Charan'))\n",
      "1\n",
      "2\n",
      "3\n",
      "4\n",
      "5\n",
      "6\n",
      "7\n",
      "8\n",
      "9\n",
      "10\n",
      "11\n",
      "12\n",
      "13\n",
      "14\n",
      "15\n",
      "16\n",
      "17\n",
      "18\n",
      "19\n",
      "20\n",
      "Foot Ball\n",
      "Cricket\n",
      "Volley Ball\n",
      "Tennis\n",
      "Chess\n",
      "Athletic\n",
      "456\n",
      "678.5\n"
     ]
    }
   ],
   "source": [
    "\n",
    "girlsList = \"1. Anitha\", \"2. Bhuvi\", \"3. Charu\", \"4. Deepika\", \"5. esha\";\n",
    "\n",
    "boysList = \"1. Vivek\", \"2. Naren\", \"3. Kowshik\", \"4. Goutham\",\"5. Charan\";\n",
    "\n",
    "sportList = \"Foot Ball\", \"Cricket\", \"Volley Ball\", \"Tennis\", \"Chess\", \"Athletic\", 456, 678.5;\n",
    "\n",
    "\n",
    "checkName = \"SUN\"\n",
    "\n",
    "grantCode = \"Code Accpeted\";\n",
    "grantCode_2 = \"Mis - Match\"\n",
    "\n",
    "List1 = \"Girls Name :\", girlsList;\n",
    "List2 = \"Boys Name :\", boysList;\n",
    "\n",
    "\n",
    "studentNameList = input(\"Enter Student Name\");\n",
    "\n",
    "if(studentNameList == checkName):\n",
    "    print(grantCode);\n",
    "else:\n",
    "    print(grantCode_2);\n",
    "    \n",
    "    \n",
    "if()   \n",
    "    \n",
    "for separateValue in grantCode:\n",
    "    print(separateValue);\n",
    "\n",
    "    \n",
    "    \n",
    "    \n",
    "\n",
    "for temp in List1, List2:\n",
    "    print(temp);\n",
    "    \n",
    "    \n",
    "for temp in range(1, 21):\n",
    "    print(temp);\n",
    "    \n",
    "for temp in sportList:\n",
    "    print(temp);\n",
    "    "
   ]
  }
 ],
 "metadata": {
  "kernelspec": {
   "display_name": "Python 3",
   "language": "python",
   "name": "python3"
  },
  "language_info": {
   "codemirror_mode": {
    "name": "ipython",
    "version": 3
   },
   "file_extension": ".py",
   "mimetype": "text/x-python",
   "name": "python",
   "nbconvert_exporter": "python",
   "pygments_lexer": "ipython3",
   "version": "3.7.4"
  }
 },
 "nbformat": 4,
 "nbformat_minor": 2
}
