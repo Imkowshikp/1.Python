{
 "cells": [
  {
   "cell_type": "code",
   "execution_count": null,
   "metadata": {},
   "outputs": [],
   "source": [
    "def iplTournament(): \n",
    "\n",
    "    for iplTeams in listTeamName:\n",
    "        print(iplTeams);\n",
    "    \n",
    "    if(iplTeams == \"Chennai Super Kings\", \"Royal Challengers Bangalore\", \"Mumbai Indians\", \"Kolkata Knight Riders\", \"Sunrisers Hydrabad\", \"Delhi Capitals\", \"Rajastan Royals\", \"Punjab Kings\", \"Gujarat Titans\", \"Lunknow Super Giants\"):\n",
    "        print(\"\\nTeams are available for this IPL-2022.\");\n",
    "    else:\n",
    "        print(\"Check Your Team\");\n",
    "        \n",
    "     \n",
    "        \n",
    "    \n",
    "    getTeam = input(\"Enter the Team\")\n",
    "\n",
    "\n",
    "    if(getTeam == listTeamName[0]):\n",
    "        print(getTeam);    \n",
    "    elif(getTeam == listTeamName[1]):\n",
    "        print(getTeam);\n",
    "    else:\n",
    "        print(\"Enter the Respective Team Name\");\n",
    "    \n",
    "    \n",
    "    for teamOne in listTeamName[7],\" - \", listTeamName[1],\" - \":\n",
    "        print(teamOne, end = \"\");\n",
    "\n",
    "    for teamTwo in listTeamName[0]:\n",
    "        print(teamTwo, end = \"\");\n",
    "    \n"
   ]
  }
 ],
 "metadata": {
  "kernelspec": {
   "display_name": "Python 3",
   "language": "python",
   "name": "python3"
  },
  "language_info": {
   "codemirror_mode": {
    "name": "ipython",
    "version": 3
   },
   "file_extension": ".py",
   "mimetype": "text/x-python",
   "name": "python",
   "nbconvert_exporter": "python",
   "pygments_lexer": "ipython3",
   "version": "3.7.4"
  }
 },
 "nbformat": 4,
 "nbformat_minor": 2
}
