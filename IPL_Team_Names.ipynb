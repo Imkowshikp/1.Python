{
 "cells": [
  {
   "cell_type": "markdown",
   "metadata": {},
   "source": [
    "# Kowshik P - 19-Mar-2022 "
   ]
  },
  {
   "cell_type": "markdown",
   "metadata": {},
   "source": [
    "## Project : Indian Premere Leaque - Team Update - 2022"
   ]
  },
  {
   "cell_type": "code",
   "execution_count": null,
   "metadata": {},
   "outputs": [],
   "source": [
    "\n",
    "class t20_Indian_Premere_Leaque():\n",
    "\n",
    "    def groupTeam_A():\n",
    "\n",
    "        teamList_A = [\"CSK\", \"RCB\", \"MI\"]\n",
    "\n",
    "        teamList_B = [1, 2, 3]\n",
    "\n",
    "\n",
    "\n",
    "\n",
    "        userName = int(input(\"User Name :\"))\n",
    "\n",
    "        if(userName == teamList_B[0]):\n",
    "            print(teamList_A[0]);\n",
    "\n",
    "        elif(userName == teamList_B[1]):\n",
    "            print(teamList_A[1]);\n",
    "\n",
    "        elif(userName == teamList_B[2]):\n",
    "            print(teamList_A[2]);\n",
    "\n",
    "        else:\n",
    "            print(\"Enter the Correct Value\");\n",
    "\n",
    "\n",
    "    #for listValue in teamList_A:\n",
    "     #   print(listValue);\n",
    "\n",
    "    groupTeam_A()    \n",
    "\n",
    "\n",
    "\n",
    "    def groupTeam_B():    \n",
    "\n",
    "        getTeam = int(input(\"Enter the Group :\"))    \n",
    "\n",
    "        teamGroup = [1, 2]    \n",
    "\n",
    "\n",
    "\n",
    "        teamGroup_1 = [\"\\nChennai Super Kings\", \"Royal Challengers Bangalure\", \"Mumbai Indians\", \"Kolkata Knight Riders\", \"Delhi Capitals\"]\n",
    "\n",
    "        teamGroup_2 = [\"\\nLucknow Super Giant\", \"Gujarat Titans\", \"Punjab Kings\", \"Sun Risers Hyderabad\", \"Rajastan Royals\"]\n",
    "\n",
    "\n",
    "        if(getTeam == teamGroup[0]):\n",
    "\n",
    "\n",
    "            for teamAlpha in teamGroup_1:\n",
    "                print(teamAlpha);\n",
    "\n",
    "        elif(getTeam == teamGroup[1]):\n",
    "\n",
    "            for teamBeta in teamGroup_2:\n",
    "                print(teamBeta);\n",
    "        else:\n",
    "            print(\"Enter the Correct Value\");\n",
    "\n",
    "    groupTeam_B()\n",
    "\n",
    "\n",
    "    \n",
    "    "
   ]
  }
 ],
 "metadata": {
  "kernelspec": {
   "display_name": "Python 3",
   "language": "python",
   "name": "python3"
  },
  "language_info": {
   "codemirror_mode": {
    "name": "ipython",
    "version": 3
   },
   "file_extension": ".py",
   "mimetype": "text/x-python",
   "name": "python",
   "nbconvert_exporter": "python",
   "pygments_lexer": "ipython3",
   "version": "3.7.4"
  }
 },
 "nbformat": 4,
 "nbformat_minor": 2
}
