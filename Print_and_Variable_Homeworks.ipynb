{
 "cells": [
  {
   "cell_type": "markdown",
   "metadata": {},
   "source": [
    "# Print Statement and Variables - 12-Mar-2022\n",
    "## Answer-1."
   ]
  },
  {
   "cell_type": "code",
   "execution_count": 31,
   "metadata": {},
   "outputs": [
    {
     "name": "stdout",
     "output_type": "stream",
     "text": [
      "Hello world\n"
     ]
    }
   ],
   "source": [
    "print(\"Hello world\");"
   ]
  },
  {
   "cell_type": "markdown",
   "metadata": {},
   "source": [
    "## Answer-2."
   ]
  },
  {
   "cell_type": "code",
   "execution_count": 32,
   "metadata": {},
   "outputs": [
    {
     "name": "stdout",
     "output_type": "stream",
     "text": [
      "-your name-\n"
     ]
    }
   ],
   "source": [
    "print(\"-your name-\");"
   ]
  },
  {
   "cell_type": "markdown",
   "metadata": {},
   "source": [
    "## Answer-3."
   ]
  },
  {
   "cell_type": "code",
   "execution_count": 33,
   "metadata": {},
   "outputs": [
    {
     "name": "stdout",
     "output_type": "stream",
     "text": [
      "Welocme to HOPE Artificial intelligence\n"
     ]
    }
   ],
   "source": [
    "print(\"Welocme to HOPE Artificial intelligence\");"
   ]
  },
  {
   "cell_type": "markdown",
   "metadata": {},
   "source": [
    "## Answer-4."
   ]
  },
  {
   "cell_type": "code",
   "execution_count": 34,
   "metadata": {},
   "outputs": [
    {
     "name": "stdout",
     "output_type": "stream",
     "text": [
      "Name:your name\n",
      "age:your age\n"
     ]
    }
   ],
   "source": [
    "print(\"Name:your name\");\n",
    "print(\"age:your age\");"
   ]
  },
  {
   "cell_type": "markdown",
   "metadata": {},
   "source": [
    "\n",
    "\n",
    "## Answer-5."
   ]
  },
  {
   "cell_type": "code",
   "execution_count": 35,
   "metadata": {},
   "outputs": [
    {
     "name": "stdout",
     "output_type": "stream",
     "text": [
      "80\n",
      "23\n",
      "add= 103\n"
     ]
    }
   ],
   "source": [
    "additionValue_1 = 80;\n",
    "additionValue_2 = 23;\n",
    "additionValue = additionValue_1 + additionValue_2;\n",
    "print(additionValue_1);\n",
    "print(additionValue_2);\n",
    "print(\"add=\",additionValue);"
   ]
  },
  {
   "cell_type": "markdown",
   "metadata": {},
   "source": [
    "## Answer-6."
   ]
  },
  {
   "cell_type": "code",
   "execution_count": 6,
   "metadata": {},
   "outputs": [
    {
     "name": "stdout",
     "output_type": "stream",
     "text": [
      "a= 322\n",
      "b= 234\n"
     ]
    }
   ],
   "source": [
    "aValue = 322;\n",
    "bValue = 234;\n",
    "print(\"a=\", aValue);\n",
    "print(\"b=\", bValue);"
   ]
  },
  {
   "cell_type": "markdown",
   "metadata": {},
   "source": [
    "## Answer-7."
   ]
  },
  {
   "cell_type": "code",
   "execution_count": 36,
   "metadata": {},
   "outputs": [
    {
     "name": "stdout",
     "output_type": "stream",
     "text": [
      "a= 60\n",
      "b= 3\n",
      "addition      = 63\n",
      "subtraction   = 57\n",
      "multiplication= 180\n",
      "dividen       = 20.0\n"
     ]
    }
   ],
   "source": [
    "aValue = 60;\n",
    "bValue = 3;\n",
    "\n",
    "addtionValue = aValue + bValue;\n",
    "subtractionValue = aValue - bValue;\n",
    "multiplicationValue = aValue * bValue;\n",
    "divisionValue = aValue / bValue;\n",
    "\n",
    "print(\"a=\", aValue);\n",
    "print(\"b=\", bValue);\n",
    "\n",
    "print(\"addition      =\", addtionValue);\n",
    "print(\"subtraction   =\", subtractionValue);\n",
    "print(\"multiplication=\", multiplicationValue);\n",
    "print(\"dividen       =\", divisionValue);"
   ]
  },
  {
   "cell_type": "markdown",
   "metadata": {},
   "source": [
    "## Exponential  (Answer-8)."
   ]
  },
  {
   "cell_type": "code",
   "execution_count": 37,
   "metadata": {},
   "outputs": [
    {
     "name": "stdout",
     "output_type": "stream",
     "text": [
      "a= 2\n",
      "b= 3\n",
      "8\n"
     ]
    }
   ],
   "source": [
    "aValue = 2;\n",
    "bValue = 3;\n",
    "\n",
    "exponValue = aValue**bValue;\n",
    "\n",
    "print(\"a=\", aValue);\n",
    "print(\"b=\", bValue);\n",
    "print(exponValue);"
   ]
  },
  {
   "cell_type": "markdown",
   "metadata": {},
   "source": [
    "## Floor division  (Answer-9)."
   ]
  },
  {
   "cell_type": "code",
   "execution_count": 38,
   "metadata": {},
   "outputs": [
    {
     "name": "stdout",
     "output_type": "stream",
     "text": [
      "a= 31\n",
      "b= 6\n",
      "5\n"
     ]
    }
   ],
   "source": [
    "aValue = 31;\n",
    "bValue = 6;\n",
    "\n",
    "floorDivision = aValue // bValue;\n",
    "\n",
    "print(\"a=\", aValue);\n",
    "print(\"b=\", bValue);\n",
    "print(floorDivision);"
   ]
  },
  {
   "cell_type": "markdown",
   "metadata": {},
   "source": [
    "## Equal  (Answer-10)."
   ]
  },
  {
   "cell_type": "code",
   "execution_count": 39,
   "metadata": {},
   "outputs": [
    {
     "name": "stdout",
     "output_type": "stream",
     "text": [
      "a= 34\n",
      "b= 5\n",
      "False\n"
     ]
    }
   ],
   "source": [
    "aValue = 34;\n",
    "bValue = 5;\n",
    "\n",
    "equalCheck = aValue == bValue;\n",
    "\n",
    "print(\"a=\", aValue);\n",
    "print(\"b=\", bValue);\n",
    "\n",
    "print(equalCheck);"
   ]
  },
  {
   "cell_type": "markdown",
   "metadata": {},
   "source": [
    "## Answer-11."
   ]
  },
  {
   "cell_type": "code",
   "execution_count": 30,
   "metadata": {},
   "outputs": [
    {
     "name": "stdout",
     "output_type": "stream",
     "text": [
      "a= 56\n",
      "b= 56\n",
      "True\n"
     ]
    }
   ],
   "source": [
    "aValue = 56;\n",
    "bValue = 56;\n",
    "\n",
    "equalCheck = aValue == bValue;\n",
    "\n",
    "print(\"a=\", aValue);\n",
    "print(\"b=\", bValue);\n",
    "\n",
    "print(equalCheck);"
   ]
  },
  {
   "cell_type": "markdown",
   "metadata": {},
   "source": [
    "## Equal operator using string (Answer-12)."
   ]
  },
  {
   "cell_type": "code",
   "execution_count": 40,
   "metadata": {},
   "outputs": [
    {
     "name": "stdout",
     "output_type": "stream",
     "text": [
      "str1: HOPE AI\n",
      "str2: HOPE AI\n",
      "True\n"
     ]
    }
   ],
   "source": [
    "stringValue_1 = \"HOPE AI\";\n",
    "stringValue_2 = \"HOPE AI\";\n",
    "\n",
    "equalCheck = stringValue_1 == stringValue_2;\n",
    "\n",
    "print(\"str1:\", stringValue_1);\n",
    "print(\"str2:\", stringValue_2);\n",
    "\n",
    "print(equalCheck);"
   ]
  },
  {
   "cell_type": "markdown",
   "metadata": {},
   "source": [
    "## Not equal (Answer-13)."
   ]
  },
  {
   "cell_type": "code",
   "execution_count": 41,
   "metadata": {},
   "outputs": [
    {
     "name": "stdout",
     "output_type": "stream",
     "text": [
      "a= 765\n",
      "b= 876\n",
      "True\n"
     ]
    }
   ],
   "source": [
    "aValue = 765;\n",
    "bValue = 876;\n",
    "\n",
    "notEqualCheck = aValue != bValue;\n",
    "\n",
    "print(\"a=\",aValue);\n",
    "print(\"b=\",bValue);\n",
    "\n",
    "print(notEqualCheck);"
   ]
  },
  {
   "cell_type": "markdown",
   "metadata": {},
   "source": [
    "## Greaterthan and lessthan (Answer-14)."
   ]
  },
  {
   "cell_type": "code",
   "execution_count": 42,
   "metadata": {},
   "outputs": [
    {
     "name": "stdout",
     "output_type": "stream",
     "text": [
      "a= 45\n",
      "b= 32\n",
      "a is Greater than b: True\n",
      "b is lesser than b: False\n"
     ]
    }
   ],
   "source": [
    "aValue = 45;\n",
    "bValue = 32;\n",
    "\n",
    "greaterthanValue = aValue > bValue;\n",
    "lessthanValue = aValue < bValue;\n",
    "\n",
    "print(\"a=\", aValue);\n",
    "print(\"b=\", bValue);\n",
    "\n",
    "print(\"a is Greater than b:\", greaterthanValue);\n",
    "print(\"b is lesser than b:\", lessthanValue);"
   ]
  },
  {
   "cell_type": "markdown",
   "metadata": {},
   "source": [
    "## greaterthan or equal to lesserthan or equal to (Answer-15)."
   ]
  },
  {
   "cell_type": "code",
   "execution_count": 43,
   "metadata": {},
   "outputs": [
    {
     "name": "stdout",
     "output_type": "stream",
     "text": [
      "a= 76\n",
      "b= 66\n",
      "a is Greater than or equal to b: True\n",
      "a is Lesser than or equal to b: False\n"
     ]
    }
   ],
   "source": [
    "aValue = 76;\n",
    "bValue = 66;\n",
    "\n",
    "greaterthanOrEqualto = aValue >= bValue;\n",
    "lesserthanOrEqualto = aValue <= bValue;\n",
    "\n",
    "print(\"a=\", aValue);\n",
    "print(\"b=\", bValue);\n",
    "\n",
    "print(\"a is Greater than or equal to b:\", greaterthanOrEqualto);\n",
    "print(\"a is Lesser than or equal to b:\", lesserthanOrEqualto);"
   ]
  }
 ],
 "metadata": {
  "kernelspec": {
   "display_name": "Python 3",
   "language": "python",
   "name": "python3"
  },
  "language_info": {
   "codemirror_mode": {
    "name": "ipython",
    "version": 3
   },
   "file_extension": ".py",
   "mimetype": "text/x-python",
   "name": "python",
   "nbconvert_exporter": "python",
   "pygments_lexer": "ipython3",
   "version": "3.7.4"
  }
 },
 "nbformat": 4,
 "nbformat_minor": 2
}
