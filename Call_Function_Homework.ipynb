{
 "cells": [
  {
   "cell_type": "markdown",
   "metadata": {},
   "source": [
    "# Kowshik P - 20-Mar-2022"
   ]
  },
  {
   "cell_type": "markdown",
   "metadata": {},
   "source": [
    "## Class and Function Homework - Call to another Notebook "
   ]
  },
  {
   "cell_type": "markdown",
   "metadata": {},
   "source": [
    "## Answer - 1."
   ]
  },
  {
   "cell_type": "code",
   "execution_count": 1,
   "metadata": {},
   "outputs": [
    {
     "name": "stdout",
     "output_type": "stream",
     "text": [
      "Side = 12 \n",
      "Area formula : Side * Side \n",
      "Area of square: 144\n",
      "\n",
      "Perimeter formula : 4 * Side \n",
      "Perimeter of Square : 48\n"
     ]
    }
   ],
   "source": [
    "from PY_Function_and_Class import squareOfArea, squareOfPerimeter;\n",
    "\n",
    "squareOfArea();\n",
    "\n",
    "squareOfPerimeter();\n"
   ]
  },
  {
   "cell_type": "markdown",
   "metadata": {},
   "source": [
    "## Answer - 2."
   ]
  },
  {
   "cell_type": "code",
   "execution_count": 2,
   "metadata": {},
   "outputs": [
    {
     "name": "stdout",
     "output_type": "stream",
     "text": [
      "Weight : 15 \n",
      "Input : 5 \n",
      "Bias Value : 1 \n",
      "Formula: Output = Weight * Input + Bias Value \n",
      "Simple Linear : 76\n"
     ]
    }
   ],
   "source": [
    "from PY_Function_and_Class import linearCalculate;\n",
    "\n",
    "linearCalculate();\n"
   ]
  },
  {
   "cell_type": "markdown",
   "metadata": {},
   "source": [
    "## Answer - 3."
   ]
  },
  {
   "cell_type": "code",
   "execution_count": 3,
   "metadata": {},
   "outputs": [
    {
     "name": "stdout",
     "output_type": "stream",
     "text": [
      "Birth Year : 2000 \n",
      "Present Year : 2022 \n",
      "Formula : Present Year - Birth Year \n",
      "Present Age : 22\n"
     ]
    }
   ],
   "source": [
    "from PY_Function_and_Class import ageCalculate;\n",
    "\n",
    "ageCalculate();\n"
   ]
  },
  {
   "cell_type": "markdown",
   "metadata": {},
   "source": [
    "## Answer - 4."
   ]
  },
  {
   "cell_type": "code",
   "execution_count": 4,
   "metadata": {},
   "outputs": [
    {
     "name": "stdout",
     "output_type": "stream",
     "text": [
      "Course List:\n",
      "Python\n",
      "Machine Learning\n",
      "Data Science\n",
      "Deep Learning\n",
      "NLP\n",
      "Time Series Analysis\n"
     ]
    }
   ],
   "source": [
    "from PY_Function_and_Class import artificialIntelligenceCourseList;\n",
    "\n",
    "obj = artificialIntelligenceCourseList();\n",
    "\n",
    "obj.aiCourse();\n"
   ]
  },
  {
   "cell_type": "markdown",
   "metadata": {},
   "source": [
    "## Answer - 5."
   ]
  },
  {
   "cell_type": "code",
   "execution_count": 5,
   "metadata": {},
   "outputs": [
    {
     "name": "stdout",
     "output_type": "stream",
     "text": [
      "Length : 12 \n",
      "Breadth : 18 \n",
      "Area formula : Length * Breadth \n",
      "Area of rectangle : 216\n",
      "\n",
      "Length : 9 \n",
      "Breadth : 15 \n",
      "Perimeter formula : 2*(Length + Breadth) \n",
      "Perimeter of rectangle 48\n"
     ]
    }
   ],
   "source": [
    "from PY_Function_and_Class import rectangleOfAreaAndPerimeter;\n",
    "\n",
    "object_2 = rectangleOfAreaAndPerimeter();\n",
    "\n",
    "object_2.areaRectangle();\n",
    "\n",
    "object_2 = rectangleOfAreaAndPerimeter();\n",
    "\n",
    "object_2.perimeterRectangle();\n",
    "\n",
    "\n",
    "\n"
   ]
  },
  {
   "cell_type": "markdown",
   "metadata": {},
   "source": [
    "## Answer - 6."
   ]
  },
  {
   "cell_type": "code",
   "execution_count": 6,
   "metadata": {},
   "outputs": [
    {
     "name": "stdout",
     "output_type": "stream",
     "text": [
      "a= 67 \n",
      "b= 45\n",
      "After swapping \n",
      "a= 45 \n",
      "b= 67\n"
     ]
    }
   ],
   "source": [
    "from PY_Function_and_Class import swapValue;\n",
    "\n",
    "object_3 = swapValue();\n",
    "\n",
    "object_3.valueSwapping();\n"
   ]
  },
  {
   "cell_type": "markdown",
   "metadata": {},
   "source": [
    "## Answer - 7."
   ]
  },
  {
   "cell_type": "code",
   "execution_count": 7,
   "metadata": {
    "scrolled": true
   },
   "outputs": [
    {
     "name": "stdout",
     "output_type": "stream",
     "text": [
      "Principle Amount : 5000 \n",
      "Rate of Interest : 5 \n",
      "Time Period : 12 \n",
      "Simple Interest formula = (P*R*T)/100 \n",
      "Simple Interest : 3000.0\n"
     ]
    }
   ],
   "source": [
    "from PY_Function_and_Class import simpleInterest;\n",
    "\n",
    "object_4 = simpleInterest();\n",
    "\n",
    "object_4.calculatingSimpleInterest();\n"
   ]
  },
  {
   "cell_type": "markdown",
   "metadata": {},
   "source": [
    "## Answer - 8."
   ]
  },
  {
   "cell_type": "code",
   "execution_count": 8,
   "metadata": {},
   "outputs": [
    {
     "name": "stdout",
     "output_type": "stream",
     "text": [
      "Mark1 = 78 \n",
      "Mark2 = 89 \n",
      "Mark3 = 90 \n",
      "Total : 257 \n",
      "Average : 85\n"
     ]
    }
   ],
   "source": [
    "from PY_Function_and_Class import studentAverageMark;\n",
    "\n",
    "object_5 = studentAverageMark();\n",
    "\n",
    "object_5.averageCalculating();\n"
   ]
  },
  {
   "cell_type": "markdown",
   "metadata": {},
   "source": [
    "## Answer - 9."
   ]
  },
  {
   "cell_type": "code",
   "execution_count": 9,
   "metadata": {},
   "outputs": [
    {
     "name": "stdout",
     "output_type": "stream",
     "text": [
      "Car Model Names:\n",
      "Maruti Alto\n",
      "Maruti Dzire\n",
      "Hyundai Creta\n",
      "Maruti Swift\n"
     ]
    }
   ],
   "source": [
    "from PY_Function_and_Class import carModels;\n",
    "\n",
    "object_6 = carModels();\n",
    "\n",
    "object_6.carVariant();\n"
   ]
  },
  {
   "cell_type": "markdown",
   "metadata": {},
   "source": [
    "## Answer - 10."
   ]
  },
  {
   "cell_type": "code",
   "execution_count": 10,
   "metadata": {},
   "outputs": [
    {
     "name": "stdout",
     "output_type": "stream",
     "text": [
      "Enter any number: 37\n",
      "37 is a prime number\n"
     ]
    }
   ],
   "source": [
    "from PY_Function_and_Class import primeNumber;\n",
    "\n",
    "object_7 = primeNumber();\n",
    "\n",
    "object_7.primeNumberCalculating();"
   ]
  }
 ],
 "metadata": {
  "kernelspec": {
   "display_name": "Python 3",
   "language": "python",
   "name": "python3"
  },
  "language_info": {
   "codemirror_mode": {
    "name": "ipython",
    "version": 3
   },
   "file_extension": ".py",
   "mimetype": "text/x-python",
   "name": "python",
   "nbconvert_exporter": "python",
   "pygments_lexer": "ipython3",
   "version": "3.7.4"
  }
 },
 "nbformat": 4,
 "nbformat_minor": 2
}
